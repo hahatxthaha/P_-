{
 "cells": [
  {
   "cell_type": "markdown",
   "source": [
    "# 銷售行為分析\n",
    "\n",
    "你剛接手超商的店長職位，為了想要了解顧客的銷售行為，打算打造一個系統來搜集並且分析資料。\n",
    "\n",
    "在這個系統中，你會紀錄每個顧客的性別與年齡層，以及所購買的所有商品，希望能夠透過這些資料來進行銷售行為與顧客的分析。"
   ],
   "metadata": {}
  },
  {
   "cell_type": "code",
   "execution_count": 223,
   "source": [
    "# 商品結構\n",
    "# p001 為商品編號\n",
    "items = {\n",
    "    \"p001\": {\n",
    "        \"name\": \"番茄\",\n",
    "        \"categories\": [\"fruit\", \"vegetable\"],\n",
    "        \"price\": 32,\n",
    "        \"calories\": 123\n",
    "    },\n",
    "    \"p002\": {\n",
    "        \"name\": \"西瓜\",\n",
    "        \"categories\": [\"fruit\"],\n",
    "        \"price\": 123,\n",
    "        \"calories\": 22        \n",
    "    }\n",
    "}\n",
    "\n",
    "\n",
    "# 訂單結構\n",
    "# age: 10(10歲以下), 20(10-20歲), 30, 40, 50, 60, 99(目測超過60歲), -1(無法目測歲數)\n",
    "# gender: 0(男生), 1(女生)\n",
    "orders = [ #list + dict\n",
    "    {\n",
    "        \"time\": \"2020-03-01 12:00:12\",\n",
    "        \"customer\": {\n",
    "            \"age\": 20, \n",
    "            \"gender\": 0,\n",
    "        },\n",
    "        \"items\": [\n",
    "            \"p001\",  # 編號 p001 買 1 個\n",
    "            \"p002\",  # 編號 p002 買 3 個\n",
    "            \"p002\",\n",
    "            \"p002\",\n",
    "        ]\n",
    "    },\n",
    "    {\n",
    "        \"time\": \"2020-03-01 12:00:12\",\n",
    "        \"customer\": {\n",
    "            \"age\": -1,\n",
    "            \"gender\": 0,\n",
    "        },\n",
    "        \"items\": [\n",
    "            \"p001\",  # 編號 p001 買 1 個\n",
    "        ]\n",
    "    },\n",
    "]\n",
    "\n",
    "#order會以相同結構一直增加，適合會大量增生的資料\n",
    "#dict可以快速對應資料"
   ],
   "outputs": [],
   "metadata": {}
  },
  {
   "cell_type": "markdown",
   "source": [
    "此為產生假資料的腳本，請務必執行～"
   ],
   "metadata": {}
  },
  {
   "cell_type": "code",
   "execution_count": 224,
   "source": [
    "import string\n",
    "from datetime import datetime\n",
    "from random import randint, choice\n",
    "\n",
    "NUM_ITEMS = 50\n",
    "NUM_ORDERS = 10000\n",
    "GENDERS = [0, 1]\n",
    "AGES = [-1, 99, 10, 20, 30, 40, 50, 60]\n",
    "CATEGORIES = ['fruit', 'vegetable', 'drink', 'meat', 'bread']\n",
    "items = { \n",
    "    \"p{:03d}\".format(idx): {\n",
    "        \"name\": ''.join([choice(string.ascii_letters) for _ in range(randint(5, 10))]),\n",
    "        \"categories\": [choice(CATEGORIES) for _ in range(randint(1, 3))],\n",
    "        \"price\": randint(10, 500),\n",
    "        \"calories\": randint(50, 1000)\n",
    "    } \n",
    "    for idx in range(NUM_ITEMS)\n",
    "}\n",
    "\n",
    "now = datetime.now().timestamp()\n",
    "orders = [\n",
    "    {\n",
    "        \"time\": datetime.fromtimestamp(now - randint(0, 86400 * 30)).strftime('%Y-%m-%d %H:%M:%S'),\n",
    "        \"customer\": {\n",
    "            \"age\": choice(AGES),\n",
    "            \"gender\": choice(GENDERS),\n",
    "        },\n",
    "        \"items\": [choice(list(items.keys())) for _ in range(randint(1, 10))]\n",
    "    }\n",
    "    for idx in range(NUM_ORDERS)\n",
    "]"
   ],
   "outputs": [],
   "metadata": {}
  },
  {
   "cell_type": "markdown",
   "source": [
    "## Q1 所有訂單的銷售總額？"
   ],
   "metadata": {}
  },
  {
   "cell_type": "code",
   "execution_count": 225,
   "source": [
    "# imperative\n",
    "total_price = 0\n",
    "for order in orders:\n",
    "    order_items = order['items']\n",
    "    for item_id in order_items:\n",
    "        total_price = total_price + items[item_id]['price']\n",
    "print(total_price)"
   ],
   "outputs": [
    {
     "output_type": "stream",
     "name": "stdout",
     "text": [
      "13527209\n"
     ]
    }
   ],
   "metadata": {}
  },
  {
   "cell_type": "code",
   "execution_count": 226,
   "source": [
    "#decalarative\n",
    "total_price_d = sum([\n",
    "    items[item_id]['price']\n",
    "    for order in orders\n",
    "    for item_id in order['items']\n",
    "])\n",
    "print(total_price_d)"
   ],
   "outputs": [
    {
     "output_type": "stream",
     "name": "stdout",
     "text": [
      "13527209\n"
     ]
    }
   ],
   "metadata": {}
  },
  {
   "cell_type": "markdown",
   "source": [
    "## Q2 最熱賣的十項商品為何？"
   ],
   "metadata": {}
  },
  {
   "cell_type": "code",
   "execution_count": 227,
   "source": [
    "# imperative\n",
    "item_id_list = []\n",
    "for order in orders:\n",
    "    item_id_list = item_id_list + order[\"items\"]\n",
    "\n",
    "count_item_id_list = []\n",
    "for item_id in set(item_id_list):\n",
    "    count_item_id = (item_id_list.count(item_id), item_id)\n",
    "    count_item_id_list.append(count_item_id)\n",
    "\n",
    "count_item_id_list.sort(reverse=True)\n",
    "for count, item_id in count_item_id_list[:10]:\n",
    "    print(items[item_id][\"name\"], count)\n",
    "print(count_item_id)\n",
    "\n"
   ],
   "outputs": [
    {
     "output_type": "stream",
     "name": "stdout",
     "text": [
      "OdockpnMg 1159\n",
      "wvznUqol 1153\n",
      "JXMCrj 1149\n",
      "MTXazI 1146\n",
      "ZojxKbQAW 1139\n",
      "TNjVz 1136\n",
      "KwHvGsGJY 1136\n",
      "xUbemZo 1135\n",
      "RDXyNdEJMA 1135\n",
      "jRZHa 1120\n",
      "(1062, 'p035')\n"
     ]
    }
   ],
   "metadata": {}
  },
  {
   "cell_type": "code",
   "execution_count": 228,
   "source": [
    "# declarative\n",
    "item_id_list = [\n",
    "    item_id\n",
    "    for order in orders\n",
    "    for item_id in order[\"items\"]\n",
    "]\n",
    "count_item_id_list = [\n",
    "    (item_id_list.count(item_id), item_id)\n",
    "    for item_id in set(item_id_list)\n",
    "]\n",
    "# immutable\n",
    "sorted_count_item_id_list = sorted(count_item_id_list, reverse=True)\n",
    "result = [\n",
    "    (items[item_id][\"name\"], count)\n",
    "    for count, item_id in sorted_count_item_id_list[:10]\n",
    "]\n",
    "print(result)"
   ],
   "outputs": [
    {
     "output_type": "stream",
     "name": "stdout",
     "text": [
      "[('OdockpnMg', 1159), ('wvznUqol', 1153), ('JXMCrj', 1149), ('MTXazI', 1146), ('ZojxKbQAW', 1139), ('TNjVz', 1136), ('KwHvGsGJY', 1136), ('xUbemZo', 1135), ('RDXyNdEJMA', 1135), ('jRZHa', 1120)]\n"
     ]
    }
   ],
   "metadata": {}
  },
  {
   "cell_type": "code",
   "execution_count": 229,
   "source": [
    "# collections: counter & most.common\n",
    "\n",
    "from collections import Counter\n",
    "\n",
    "item_id_list = []\n",
    "for order in orders:\n",
    "    item_id_list = item_id_list + order['items']\n",
    "\n",
    "acc = Counter(item_id_list)\n",
    "result = acc.most_common()\n",
    "for x in result[:10]:\n",
    "    print(items[x[0]]['name'],x[1])"
   ],
   "outputs": [
    {
     "output_type": "stream",
     "name": "stdout",
     "text": [
      "OdockpnMg 1159\n",
      "wvznUqol 1153\n",
      "JXMCrj 1149\n",
      "MTXazI 1146\n",
      "ZojxKbQAW 1139\n",
      "TNjVz 1136\n",
      "KwHvGsGJY 1136\n",
      "xUbemZo 1135\n",
      "RDXyNdEJMA 1135\n",
      "jRZHa 1120\n"
     ]
    }
   ],
   "metadata": {}
  },
  {
   "cell_type": "markdown",
   "source": [
    "## Q3 總熱量最低的訂單總熱量為何？"
   ],
   "metadata": {}
  },
  {
   "cell_type": "code",
   "execution_count": 230,
   "source": [
    "#imperative\n",
    "order_customer_calories_list = []\n",
    "for order in orders:\n",
    "    total_calories = 0\n",
    "    for item_id in order['items']:\n",
    "        total_calories = total_calories + items[item_id]['calories']\n",
    "\n",
    "    order_customer_calories = (total_calories, order['customer']['age'],order['customer']['gender'])\n",
    "    order_customer_calories_list.append(order_customer_calories)\n",
    "\n",
    "print(min(order_customer_calories_list))"
   ],
   "outputs": [
    {
     "output_type": "stream",
     "name": "stdout",
     "text": [
      "(58, -1, 0)\n"
     ]
    }
   ],
   "metadata": {}
  },
  {
   "cell_type": "code",
   "execution_count": 231,
   "source": [
    "# declarative 把imperative從由內開始改寫到declarative外\n",
    "\n",
    "total_calories = sum([\n",
    "    items[item_id]['calories']\n",
    "    for item_id in order['items']\n",
    "])\n",
    "\n",
    "order_customer_calories_list = [\n",
    "    (\n",
    "        sum([\n",
    "            items[item_id]['calories']\n",
    "            for item_id in order['items']\n",
    "        ]),\n",
    "        order['customer'][\"age\"],\n",
    "        order['customer'][\"gender\"]\n",
    "    )\n",
    "    for order in orders\n",
    "]\n",
    "print(min(order_customer_calories_list))"
   ],
   "outputs": [
    {
     "output_type": "stream",
     "name": "stdout",
     "text": [
      "(58, -1, 0)\n"
     ]
    }
   ],
   "metadata": {}
  },
  {
   "cell_type": "markdown",
   "source": [
    "## Q4 青少年(10-30歲) 最愛的商品為何？"
   ],
   "metadata": {}
  },
  {
   "cell_type": "code",
   "execution_count": 232,
   "source": [
    "# imperative\n",
    "# tuple 比較會從第一格開始比 要比較的對象要放最前面\n",
    "\n",
    "item_id_list = []\n",
    "for order in orders:\n",
    "    if order['customer']['age'] == 20 or order['customer']['age'] == 30:\n",
    "        for item_id in order['items']:\n",
    "            item_id_list.append(item_id)\n",
    "\n",
    "item_id_count_list = []\n",
    "for item_id in set(item_id_list):\n",
    "    item_id_count = (item_id_list.count(item_id), item_id)\n",
    "    item_id_count_list.append(item_id_count)\n",
    "\n",
    "count, item_id = max(item_id_count_list)\n",
    "print(items[item_id]['name'])"
   ],
   "outputs": [
    {
     "output_type": "stream",
     "name": "stdout",
     "text": [
      "cGwcA\n"
     ]
    }
   ],
   "metadata": {}
  },
  {
   "cell_type": "code",
   "execution_count": 233,
   "source": [
    "# declarative\n",
    "item_id_list = [\n",
    "    item_id\n",
    "    for order in orders\n",
    "    for item_id in order['items']\n",
    "    if order['customer']['age'] == 20 or order['customer']['age'] == 30\n",
    "]\n",
    "\n",
    "item_id_count_list = [\n",
    "    (item_id_list.count(item_id),item_id)\n",
    "    for item_id in set(item_id_list)\n",
    "]\n",
    "\n",
    "count, item_id = max(item_id_count_list)\n",
    "print(items[item_id]['name'])"
   ],
   "outputs": [
    {
     "output_type": "stream",
     "name": "stdout",
     "text": [
      "cGwcA\n"
     ]
    }
   ],
   "metadata": {}
  },
  {
   "cell_type": "markdown",
   "source": [
    "## Q5 男性最愛的類別為何？\n"
   ],
   "metadata": {}
  },
  {
   "cell_type": "code",
   "execution_count": 234,
   "source": [
    "# imperative\n",
    "category_list = []\n",
    "for order in orders:\n",
    "    if order['customer']['gender'] == 0:\n",
    "        for item_id in order['items']:\n",
    "            for category in items[item_id]['categories']:\n",
    "                category_list.append(category)\n",
    "category_count_list = []\n",
    "for category in set(category_list):\n",
    "    category_count = (category_list.count(category),category)\n",
    "    category_count_list.append(category_count)\n",
    "\n",
    "print(max(category_count_list))"
   ],
   "outputs": [
    {
     "output_type": "stream",
     "name": "stdout",
     "text": [
      "(15473, 'meat')\n"
     ]
    }
   ],
   "metadata": {}
  },
  {
   "cell_type": "code",
   "execution_count": 235,
   "source": [
    "# declarative\n",
    "category_list = [\n",
    "    category\n",
    "\n",
    "    for order in orders\n",
    "    for item_id in order['items']\n",
    "    for category in items[item_id]['categories']\n",
    "\n",
    "    if order['customer']['gender'] == 0\n",
    "]\n",
    "\n",
    "category_count_list = [\n",
    "    (category_list.count(category),category)\n",
    "    for category in set(category_list)\n",
    "]\n",
    "\n",
    "print(max(category_count_list))"
   ],
   "outputs": [
    {
     "output_type": "stream",
     "name": "stdout",
     "text": [
      "(15473, 'meat')\n"
     ]
    }
   ],
   "metadata": {}
  },
  {
   "cell_type": "code",
   "execution_count": 236,
   "source": [
    "# counter\n",
    "\n",
    "category_list = [\n",
    "    category\n",
    "\n",
    "    for order in orders\n",
    "    for item_id in order['items']\n",
    "    for category in items[item_id]['categories']\n",
    "\n",
    "    if order['customer']['gender'] == 0\n",
    "]\n",
    "category_count_list = Counter(category_list)\n",
    "print(category_count_list.most_common()[0])"
   ],
   "outputs": [
    {
     "output_type": "stream",
     "name": "stdout",
     "text": [
      "('meat', 15473)\n"
     ]
    }
   ],
   "metadata": {}
  },
  {
   "cell_type": "markdown",
   "source": [
    "## Q6 女性訂單中，總金額最大值為何？"
   ],
   "metadata": {}
  },
  {
   "cell_type": "code",
   "execution_count": 237,
   "source": [
    "female_orders = []\n",
    "for order in orders:\n",
    "    if order['customer']['gender'] == 1:\n",
    "        female_orders.append(order)\n",
    "\n",
    "order_price_items_list = []\n",
    "for order in female_orders:\n",
    "    total_price = 0\n",
    "    for item_id in order['items']:\n",
    "        total_price = total_price + items[item_id]['price']\n",
    "    \n",
    "    order_price_items = (total_price, order['items'])\n",
    "    order_price_items_list.append(order_price_items)\n",
    "\n",
    "total_price, order_items = max(order_price_items_list)\n",
    "print(total_price)\n",
    "for item_id in order_items:\n",
    "    print(items[item_id]['name'], items[item_id]['price'])\n",
    "    "
   ],
   "outputs": [
    {
     "output_type": "stream",
     "name": "stdout",
     "text": [
      "3734\n",
      "ZojxKbQAW 488\n",
      "BTgBTeS 357\n",
      "GWoKO 497\n",
      "KwHvGsGJY 410\n",
      "cGwcA 196\n",
      "OdockpnMg 434\n",
      "JLDgzLABrF 416\n",
      "JLDgzLABrF 416\n",
      "MahLSMRVO 283\n",
      "zIwbq 237\n"
     ]
    }
   ],
   "metadata": {}
  },
  {
   "cell_type": "markdown",
   "source": [
    "list comprehension 變數不會被儲存 "
   ],
   "metadata": {}
  },
  {
   "cell_type": "code",
   "execution_count": 238,
   "source": [
    "female_orders = [\n",
    "    order\n",
    "\n",
    "    for order in orders\n",
    "    if order[\"customer\"][\"gender\"] == 1\n",
    "]\n",
    "\n",
    "order_price_items_list = [\n",
    "    (\n",
    "        sum ([\n",
    "             items[item_id]['price']\n",
    "             for item_id in order[\"items\"]\n",
    "        ]),\n",
    "        order['items']\n",
    "    )\n",
    "    for order in female_orders\n",
    "]\n",
    "\n",
    "total_price, order_items = max(order_price_items_list)\n",
    "print(total_price)\n",
    "for item_id in order_items:\n",
    "    print(items[item_id][\"name\"], items[item_id][\"price\"])"
   ],
   "outputs": [
    {
     "output_type": "stream",
     "name": "stdout",
     "text": [
      "3734\n",
      "ZojxKbQAW 488\n",
      "BTgBTeS 357\n",
      "GWoKO 497\n",
      "KwHvGsGJY 410\n",
      "cGwcA 196\n",
      "OdockpnMg 434\n",
      "JLDgzLABrF 416\n",
      "JLDgzLABrF 416\n",
      "MahLSMRVO 283\n",
      "zIwbq 237\n"
     ]
    }
   ],
   "metadata": {}
  },
  {
   "cell_type": "markdown",
   "source": [
    "## Q7 飲料類別中，各年齡層的消費力為何？\n",
    "消費力 = 消費金額總數，假設現在有三筆訂單：\n",
    "\n",
    "1. age(20), 番茄、牛奶(100)\n",
    "2. age(10), 奶茶(30)\n",
    "3. age(10), 果汁(15)、紅茶(20)\n",
    "\n",
    "因為番茄沒有飲料的類別，所以濾掉不計\n",
    "\n",
    "* age: 20 的消費力 = 100\n",
    "* age: 10 的消費力 = 30 + 15 + 20 = 65"
   ],
   "metadata": {}
  },
  {
   "cell_type": "code",
   "execution_count": 239,
   "source": [
    "# item -> categroy, customer -> age, item -> price\n",
    "\n",
    "for age_level in AGES:\n",
    "#for age_level in [10, 20, 30, 40, 50, 60, 99, -1]:\n",
    "    total_price = 0    \n",
    "    for order in orders:\n",
    "        if order['customer']['age'] == age_level:\n",
    "            for item_id in order['items']:\n",
    "                if 'drink' in items[item_id]['categories']:\n",
    "                    total_price = total_price + items[item_id]['price']\n",
    "\n",
    "    print(age_level, total_price)"
   ],
   "outputs": [
    {
     "output_type": "stream",
     "name": "stdout",
     "text": [
      "-1 438368\n",
      "99 424855\n",
      "10 431473\n",
      "20 420035\n",
      "30 449079\n",
      "40 437402\n",
      "50 441072\n",
      "60 402696\n"
     ]
    }
   ],
   "metadata": {}
  },
  {
   "cell_type": "code",
   "execution_count": 240,
   "source": [
    "\n",
    "result= [\n",
    "    (\n",
    "        age_level,\n",
    "        sum([\n",
    "            sum([\n",
    "            items[item_id]['price']\n",
    "            for item_id in order['items']\n",
    "            if 'drink' in items[item_id]['categories']\n",
    "            ])\n",
    "            for order in orders\n",
    "            if order['customer']['age'] == age_level\n",
    "        ])\n",
    "    )\n",
    "    for age_level in AGES\n",
    "        \n",
    "]\n",
    "print(result)"
   ],
   "outputs": [
    {
     "output_type": "stream",
     "name": "stdout",
     "text": [
      "[(-1, 438368), (99, 424855), (10, 431473), (20, 420035), (30, 449079), (40, 437402), (50, 441072), (60, 402696)]\n"
     ]
    }
   ],
   "metadata": {}
  },
  {
   "cell_type": "markdown",
   "source": [
    "## Q8 商品 p000 最常跟哪個商品一起購買？"
   ],
   "metadata": {}
  },
  {
   "cell_type": "code",
   "execution_count": 241,
   "source": [
    "item_id_list =[]\n",
    "for order in orders:\n",
    "    if 'p000' in order['items']:\n",
    "        for item_id in set(order['items']):\n",
    "            if item_id != 'p000':\n",
    "                item_id_list.append(item_id)\n",
    "item_id_count_list = []                \n",
    "for item_id in set(item_id_list):\n",
    "    item_id_count = (item_id_list.count(item_id),item_id)\n",
    "    item_id_count_list.append(item_id_count)\n",
    "\n",
    "count, item_id = max(item_id_count_list)\n",
    "print(items[item_id]['name'], count)"
   ],
   "outputs": [
    {
     "output_type": "stream",
     "name": "stdout",
     "text": [
      "IlloM 135\n"
     ]
    }
   ],
   "metadata": {}
  },
  {
   "cell_type": "code",
   "execution_count": 242,
   "source": [
    "item_id_list =[\n",
    "    item_id\n",
    "\n",
    "    for order in orders\n",
    "    if 'p000' in order['items']\n",
    "\n",
    "    for item_id in set(order['items'])\n",
    "    if item_id != 'p000'\n",
    "]\n",
    "\n",
    "item_id_count_list = [\n",
    "    (item_id_list.count(item_id),item_id)\n",
    "    for item_id in set(item_id_list)\n",
    "] \n",
    "\n",
    "count, item_id = max(item_id_count_list)\n",
    "print(items[item_id][\"name\"], count)"
   ],
   "outputs": [
    {
     "output_type": "stream",
     "name": "stdout",
     "text": [
      "IlloM 135\n"
     ]
    }
   ],
   "metadata": {}
  },
  {
   "cell_type": "code",
   "execution_count": 243,
   "source": [
    "# collections: counter & most.common\n",
    "\n",
    "item_id_list =[\n",
    "    item_id\n",
    "\n",
    "    for order in orders\n",
    "    if 'p000' in order['items']\n",
    "\n",
    "    for item_id in set(order['items'])\n",
    "    if item_id != 'p000'\n",
    "]\n",
    "\n",
    "item_id_count_list = Counter(item_id_list)\n",
    "result = item_id_count_list.most_common()\n",
    "for x in result[:1]:\n",
    "    print(items[x[0]][\"name\"], x[1])\n",
    "\n"
   ],
   "outputs": [
    {
     "output_type": "stream",
     "name": "stdout",
     "text": [
      "IlloM 135\n"
     ]
    }
   ],
   "metadata": {}
  },
  {
   "cell_type": "markdown",
   "source": [
    "## Q9 每個商品的男性購買力與女性購買力各自為何？"
   ],
   "metadata": {}
  },
  {
   "cell_type": "code",
   "execution_count": 244,
   "source": [
    "# order -> item_id\n",
    "# order -> customer -> gender\n",
    "# item -> price(opational)\n",
    "item_id_gender_list = []\n",
    "for order in orders:\n",
    "    for item_id in order['items']:\n",
    "        item_id_gender = (order['customer']['gender'],item_id)\n",
    "        item_id_gender_list.append(item_id_gender)\n",
    "\n",
    "# item_id = 'p001'\n",
    "# gender = 0\n",
    "# print(item_id_gender_list.count((gender, item_id)) * items[item_id][\"price\"])\n",
    "\n",
    "def calculate_power(item_id_gender_list, gender, item_id):\n",
    "    return item_id_gender_list.count((gender, item_id))*  items[item_id]['price']\n",
    "    "
   ],
   "outputs": [],
   "metadata": {}
  },
  {
   "cell_type": "code",
   "execution_count": 245,
   "source": [
    "calculate_power(item_id_gender_list, 1, 'p002')"
   ],
   "outputs": [
    {
     "output_type": "execute_result",
     "data": {
      "text/plain": [
       "49000"
      ]
     },
     "metadata": {},
     "execution_count": 245
    }
   ],
   "metadata": {}
  },
  {
   "cell_type": "code",
   "execution_count": 246,
   "source": [
    "calculate_power(item_id_gender_list, 0, 'p003')"
   ],
   "outputs": [
    {
     "output_type": "execute_result",
     "data": {
      "text/plain": [
       "153045"
      ]
     },
     "metadata": {},
     "execution_count": 246
    }
   ],
   "metadata": {}
  },
  {
   "cell_type": "code",
   "execution_count": 247,
   "source": [
    "item_id_gender_list = [\n",
    "    (order[\"customer\"][\"gender\"], item_id)\n",
    "    for order in orders\n",
    "    for item_id in order[\"items\"]\n",
    "]\n",
    "        \n",
    "def calculate_power(item_id_gender_list, gender, item_id):\n",
    "    return item_id_gender_list.count((gender, item_id)) * items[item_id][\"price\"]"
   ],
   "outputs": [],
   "metadata": {}
  },
  {
   "cell_type": "code",
   "execution_count": 248,
   "source": [
    "calculate_power(item_id_gender_list, 1, 'p002')"
   ],
   "outputs": [
    {
     "output_type": "execute_result",
     "data": {
      "text/plain": [
       "49000"
      ]
     },
     "metadata": {},
     "execution_count": 248
    }
   ],
   "metadata": {}
  },
  {
   "cell_type": "code",
   "execution_count": 249,
   "source": [
    "calculate_power(item_id_gender_list, 0, 'p003')"
   ],
   "outputs": [
    {
     "output_type": "execute_result",
     "data": {
      "text/plain": [
       "153045"
      ]
     },
     "metadata": {},
     "execution_count": 249
    }
   ],
   "metadata": {}
  },
  {
   "cell_type": "code",
   "execution_count": null,
   "source": [],
   "outputs": [],
   "metadata": {}
  }
 ],
 "metadata": {
  "kernelspec": {
   "name": "python3",
   "display_name": "Python 3.8.8 64-bit ('base': conda)"
  },
  "language_info": {
   "codemirror_mode": {
    "name": "ipython",
    "version": 3
   },
   "file_extension": ".py",
   "mimetype": "text/x-python",
   "name": "python",
   "nbconvert_exporter": "python",
   "pygments_lexer": "ipython3",
   "version": "3.8.8"
  },
  "interpreter": {
   "hash": "dca0ade3e726a953b501b15e8e990130d2b7799f14cfd9f4271676035ebe5511"
  }
 },
 "nbformat": 4,
 "nbformat_minor": 4
}